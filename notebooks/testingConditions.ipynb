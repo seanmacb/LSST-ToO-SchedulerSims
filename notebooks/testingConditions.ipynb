{
 "cells": [
  {
   "cell_type": "code",
   "execution_count": 1,
   "id": "d50560d1-3f38-4338-b996-6e933224c674",
   "metadata": {
    "execution": {
     "iopub.execute_input": "2025-05-03T18:55:38.976727Z",
     "iopub.status.busy": "2025-05-03T18:55:38.976594Z",
     "iopub.status.idle": "2025-05-03T18:55:40.318785Z",
     "shell.execute_reply": "2025-05-03T18:55:40.318383Z",
     "shell.execute_reply.started": "2025-05-03T18:55:38.976713Z"
    }
   },
   "outputs": [],
   "source": [
    "from rubin_scheduler.scheduler.model_observatory import ModelObservatory\n",
    "from rubin_scheduler.scheduler.surveys import BaseSurvey, ScriptedSurvey\n",
    "from rubin_scheduler.scheduler.utils import ObservationArray, ScheduledObservationArray\n",
    "from rubin_scheduler.scheduler.schedulers import CoreScheduler# , SimpleBandSched\n",
    "from rubin_scheduler.scheduler import sim_runner\n",
    "from rubin_scheduler.site_models import Almanac\n",
    "\n",
    "import numpy as np\n",
    "import healpy as hp\n",
    "import matplotlib.pylab as plt\n",
    "%matplotlib inline\n",
    "\n",
    "import pandas as pd"
   ]
  },
  {
   "cell_type": "code",
   "execution_count": 2,
   "id": "603d7fe1-cd2a-4b94-8fda-6221995b6c0b",
   "metadata": {
    "execution": {
     "iopub.execute_input": "2025-05-03T18:55:40.319513Z",
     "iopub.status.busy": "2025-05-03T18:55:40.319211Z",
     "iopub.status.idle": "2025-05-03T18:55:40.321853Z",
     "shell.execute_reply": "2025-05-03T18:55:40.321485Z",
     "shell.execute_reply.started": "2025-05-03T18:55:40.319497Z"
    }
   },
   "outputs": [],
   "source": [
    "nside=32  # Specify the HEALpix resolution we want to do everything in.\n",
    "mjd_start = 61041 # Jan 1 2026"
   ]
  },
  {
   "cell_type": "code",
   "execution_count": 5,
   "id": "6f70b06a-550b-4f98-b994-778004b817f7",
   "metadata": {
    "execution": {
     "iopub.execute_input": "2025-05-03T18:59:54.660314Z",
     "iopub.status.busy": "2025-05-03T18:59:54.660102Z",
     "iopub.status.idle": "2025-05-03T18:59:54.693425Z",
     "shell.execute_reply": "2025-05-03T18:59:54.692926Z",
     "shell.execute_reply.started": "2025-05-03T18:59:54.660299Z"
    }
   },
   "outputs": [
    {
     "ename": "FileNotFoundError",
     "evalue": "[Errno 2] No such file or directory: '/home/s/seanmacb/rubin_sim_data/site_models/sunsets.npz'",
     "output_type": "error",
     "traceback": [
      "\u001b[0;31m---------------------------------------------------------------------------\u001b[0m",
      "\u001b[0;31mFileNotFoundError\u001b[0m                         Traceback (most recent call last)",
      "Cell \u001b[0;32mIn[5], line 1\u001b[0m\n\u001b[0;32m----> 1\u001b[0m almanac \u001b[38;5;241m=\u001b[39m \u001b[43mAlmanac\u001b[49m\u001b[43m(\u001b[49m\u001b[43mmjd_start\u001b[49m\u001b[38;5;241;43m=\u001b[39;49m\u001b[43mmjd_start\u001b[49m\u001b[43m)\u001b[49m\n\u001b[1;32m      2\u001b[0m sun_moon_info \u001b[38;5;241m=\u001b[39m almanac\u001b[38;5;241m.\u001b[39mget_sun_moon_positions(mjd_start)\n\u001b[1;32m      3\u001b[0m sun_ra_start \u001b[38;5;241m=\u001b[39m sun_moon_info[\u001b[38;5;124m\"\u001b[39m\u001b[38;5;124msun_RA\u001b[39m\u001b[38;5;124m\"\u001b[39m]\u001b[38;5;241m.\u001b[39mcopy()\n",
      "File \u001b[0;32m/opt/lsst/software/stack/conda/envs/lsst-scipipe-10.0.0/lib/python3.12/site-packages/rubin_scheduler/site_models/almanac.py:20\u001b[0m, in \u001b[0;36mAlmanac.__init__\u001b[0;34m(self, mjd_start, kind)\u001b[0m\n\u001b[1;32m     16\u001b[0m \u001b[38;5;28;01mdef\u001b[39;00m\u001b[38;5;250m \u001b[39m\u001b[38;5;21m__init__\u001b[39m(\u001b[38;5;28mself\u001b[39m, mjd_start\u001b[38;5;241m=\u001b[39m\u001b[38;5;28;01mNone\u001b[39;00m, kind\u001b[38;5;241m=\u001b[39m\u001b[38;5;124m\"\u001b[39m\u001b[38;5;124mquadratic\u001b[39m\u001b[38;5;124m\"\u001b[39m):\n\u001b[1;32m     17\u001b[0m     \u001b[38;5;66;03m# Load up the sunrise/sunset times\u001b[39;00m\n\u001b[1;32m     18\u001b[0m     data_dir \u001b[38;5;241m=\u001b[39m os\u001b[38;5;241m.\u001b[39mpath\u001b[38;5;241m.\u001b[39mjoin(get_data_dir(), \u001b[38;5;124m\"\u001b[39m\u001b[38;5;124msite_models\u001b[39m\u001b[38;5;124m\"\u001b[39m)\n\u001b[0;32m---> 20\u001b[0m     temp \u001b[38;5;241m=\u001b[39m \u001b[43mnp\u001b[49m\u001b[38;5;241;43m.\u001b[39;49m\u001b[43mload\u001b[49m\u001b[43m(\u001b[49m\u001b[43mos\u001b[49m\u001b[38;5;241;43m.\u001b[39;49m\u001b[43mpath\u001b[49m\u001b[38;5;241;43m.\u001b[39;49m\u001b[43mjoin\u001b[49m\u001b[43m(\u001b[49m\u001b[43mdata_dir\u001b[49m\u001b[43m,\u001b[49m\u001b[43m \u001b[49m\u001b[38;5;124;43m\"\u001b[39;49m\u001b[38;5;124;43msunsets.npz\u001b[39;49m\u001b[38;5;124;43m\"\u001b[39;49m\u001b[43m)\u001b[49m\u001b[43m)\u001b[49m\n\u001b[1;32m     21\u001b[0m     \u001b[38;5;28mself\u001b[39m\u001b[38;5;241m.\u001b[39msunsets \u001b[38;5;241m=\u001b[39m temp[\u001b[38;5;124m\"\u001b[39m\u001b[38;5;124malmanac\u001b[39m\u001b[38;5;124m\"\u001b[39m]\u001b[38;5;241m.\u001b[39mcopy()\n\u001b[1;32m     22\u001b[0m     temp\u001b[38;5;241m.\u001b[39mclose()\n",
      "File \u001b[0;32m/opt/lsst/software/stack/conda/envs/lsst-scipipe-10.0.0/lib/python3.12/site-packages/numpy/lib/_npyio_impl.py:455\u001b[0m, in \u001b[0;36mload\u001b[0;34m(file, mmap_mode, allow_pickle, fix_imports, encoding, max_header_size)\u001b[0m\n\u001b[1;32m    453\u001b[0m     own_fid \u001b[38;5;241m=\u001b[39m \u001b[38;5;28;01mFalse\u001b[39;00m\n\u001b[1;32m    454\u001b[0m \u001b[38;5;28;01melse\u001b[39;00m:\n\u001b[0;32m--> 455\u001b[0m     fid \u001b[38;5;241m=\u001b[39m stack\u001b[38;5;241m.\u001b[39menter_context(\u001b[38;5;28;43mopen\u001b[39;49m\u001b[43m(\u001b[49m\u001b[43mos\u001b[49m\u001b[38;5;241;43m.\u001b[39;49m\u001b[43mfspath\u001b[49m\u001b[43m(\u001b[49m\u001b[43mfile\u001b[49m\u001b[43m)\u001b[49m\u001b[43m,\u001b[49m\u001b[43m \u001b[49m\u001b[38;5;124;43m\"\u001b[39;49m\u001b[38;5;124;43mrb\u001b[39;49m\u001b[38;5;124;43m\"\u001b[39;49m\u001b[43m)\u001b[49m)\n\u001b[1;32m    456\u001b[0m     own_fid \u001b[38;5;241m=\u001b[39m \u001b[38;5;28;01mTrue\u001b[39;00m\n\u001b[1;32m    458\u001b[0m \u001b[38;5;66;03m# Code to distinguish from NumPy binary files and pickles.\u001b[39;00m\n",
      "\u001b[0;31mFileNotFoundError\u001b[0m: [Errno 2] No such file or directory: '/home/s/seanmacb/rubin_sim_data/site_models/sunsets.npz'"
     ]
    }
   ],
   "source": [
    "almanac = Almanac(mjd_start=mjd_start)\n",
    "sun_moon_info = almanac.get_sun_moon_positions(mjd_start)\n",
    "sun_ra_start = sun_moon_info[\"sun_RA\"].copy()\n",
    "\n",
    "# conditions = mo.return_conditions()"
   ]
  },
  {
   "cell_type": "code",
   "execution_count": null,
   "id": "1a438f54-7723-41b9-b0eb-ba62fcfad494",
   "metadata": {},
   "outputs": [],
   "source": []
  }
 ],
 "metadata": {
  "kernelspec": {
   "display_name": "LSST",
   "language": "python",
   "name": "lsst"
  },
  "language_info": {
   "codemirror_mode": {
    "name": "ipython",
    "version": 3
   },
   "file_extension": ".py",
   "mimetype": "text/x-python",
   "name": "python",
   "nbconvert_exporter": "python",
   "pygments_lexer": "ipython3",
   "version": "3.12.10"
  }
 },
 "nbformat": 4,
 "nbformat_minor": 5
}
