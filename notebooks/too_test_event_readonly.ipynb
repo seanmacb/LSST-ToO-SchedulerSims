{
 "cells": [
  {
   "cell_type": "code",
   "execution_count": 1,
   "id": "cbe5ce3e-f70c-4ca0-be8d-94adb8f33383",
   "metadata": {
    "execution": {
     "iopub.execute_input": "2025-05-21T02:34:11.065396Z",
     "iopub.status.busy": "2025-05-21T02:34:11.065269Z",
     "iopub.status.idle": "2025-05-21T02:34:12.436036Z",
     "shell.execute_reply": "2025-05-21T02:34:12.435634Z",
     "shell.execute_reply.started": "2025-05-21T02:34:11.065381Z"
    }
   },
   "outputs": [],
   "source": [
    "from rubin_scheduler.scheduler.example import example_scheduler\n",
    "import numpy as np\n",
    "import healpy as hp\n",
    "\n",
    "from rubin_scheduler.scheduler.utils import SimTargetooServer, TargetoO\n",
    "from rubin_scheduler.scheduler.model_observatory import ModelObservatory\n",
    "\n",
    "from rubin_scheduler.scheduler import sim_runner\n",
    "\n",
    "import matplotlib.pylab as plt\n",
    "%matplotlib inline"
   ]
  },
  {
   "cell_type": "code",
   "execution_count": 11,
   "id": "5f09e0b1-2923-40c7-9776-e22c8047f43b",
   "metadata": {
    "execution": {
     "iopub.execute_input": "2025-05-21T02:44:20.220085Z",
     "iopub.status.busy": "2025-05-21T02:44:20.219741Z",
     "iopub.status.idle": "2025-05-21T02:44:55.034800Z",
     "shell.execute_reply": "2025-05-21T02:44:55.034287Z",
     "shell.execute_reply.started": "2025-05-21T02:44:20.220066Z"
    }
   },
   "outputs": [
    {
     "name": "stderr",
     "output_type": "stream",
     "text": [
      "cat: /opt/lsst/software/stack/conda/envs/lsst-scipipe-10.0.0/lib/python3.12/site-packages/rubin_scheduler/../.git/refs/heads/main: No such file or directory\n"
     ]
    },
    {
     "name": "stdout",
     "output_type": "stream",
     "text": [
      "Optimizing ELAISS1\n",
      "Optimizing XMM_LSS\n",
      "Optimizing ECDFS\n",
      "Optimizing COSMOS\n",
      "Optimizing EDFS_a\n"
     ]
    },
    {
     "name": "stderr",
     "output_type": "stream",
     "text": [
      "/opt/lsst/software/stack/conda/envs/lsst-scipipe-10.0.0/lib/python3.12/site-packages/rubin_scheduler/scheduler/surveys/roman_surveys.py:42: UserWarning: Generating Roman survey place holder. Should probably not be in production.\n",
      "  warnings.warn(\"Generating Roman survey place holder. Should probably not be in production.\")\n",
      "/opt/lsst/software/stack/conda/envs/lsst-scipipe-10.0.0/lib/python3.12/site-packages/rubin_scheduler/scheduler/surveys/roman_surveys.py:95: UserWarning: Generating Roman survey place holder. Should probably not be in production.\n",
      "  warnings.warn(\"Generating Roman survey place holder. Should probably not be in production.\")\n",
      "/opt/lsst/software/stack/conda/envs/lsst-scipipe-10.0.0/lib/python3.12/site-packages/erfa/core.py:133: ErfaWarning: ERFA function \"utctai\" yielded 463 of \"dubious year (Note 3)\"\n",
      "  warn(f'ERFA function \"{func_name}\" yielded {wmsg}', ErfaWarning)\n",
      "/opt/lsst/software/stack/conda/envs/lsst-scipipe-10.0.0/lib/python3.12/site-packages/erfa/core.py:133: ErfaWarning: ERFA function \"taiutc\" yielded 463 of \"dubious year (Note 4)\"\n",
      "  warn(f'ERFA function \"{func_name}\" yielded {wmsg}', ErfaWarning)\n",
      "/opt/lsst/software/stack/conda/envs/lsst-scipipe-10.0.0/lib/python3.12/site-packages/erfa/core.py:133: ErfaWarning: ERFA function \"utctai\" yielded 162 of \"dubious year (Note 3)\"\n",
      "  warn(f'ERFA function \"{func_name}\" yielded {wmsg}', ErfaWarning)\n",
      "/opt/lsst/software/stack/conda/envs/lsst-scipipe-10.0.0/lib/python3.12/site-packages/erfa/core.py:133: ErfaWarning: ERFA function \"taiutc\" yielded 162 of \"dubious year (Note 4)\"\n",
      "  warn(f'ERFA function \"{func_name}\" yielded {wmsg}', ErfaWarning)\n"
     ]
    }
   ],
   "source": [
    "# load up the example scheduler, which has ToO surveys included by default\n",
    "scheduler = example_scheduler()"
   ]
  },
  {
   "cell_type": "code",
   "execution_count": 12,
   "id": "efa603f2-673b-4902-953d-dd151f741593",
   "metadata": {
    "execution": {
     "iopub.execute_input": "2025-05-21T02:44:55.035871Z",
     "iopub.status.busy": "2025-05-21T02:44:55.035715Z",
     "iopub.status.idle": "2025-05-21T02:45:00.215369Z",
     "shell.execute_reply": "2025-05-21T02:45:00.214694Z",
     "shell.execute_reply.started": "2025-05-21T02:44:55.035855Z"
    }
   },
   "outputs": [],
   "source": [
    "nside = 32\n",
    "observatory = ModelObservatory(nside=nside,)# sim_to_o=sim_to_o)"
   ]
  },
  {
   "cell_type": "code",
   "execution_count": 13,
   "id": "88497390-8e24-43d5-b79e-cf1960924b67",
   "metadata": {
    "execution": {
     "iopub.execute_input": "2025-05-21T02:45:00.216294Z",
     "iopub.status.busy": "2025-05-21T02:45:00.216146Z",
     "iopub.status.idle": "2025-05-21T02:45:00.219895Z",
     "shell.execute_reply": "2025-05-21T02:45:00.219496Z",
     "shell.execute_reply.started": "2025-05-21T02:45:00.216278Z"
    }
   },
   "outputs": [],
   "source": [
    "# Make a ToO event\n",
    "\n",
    "# Make a healpix map, can be any nside\n",
    "footprint = np.zeros(hp.nside2npix(nside))\n",
    "# Set some healpix near the pole to be where to observe\n",
    "footprint[-8:] = 1\n",
    "\n",
    "# Set the event to go off at the start of the survey\n",
    "event_start = observatory.mjd\n",
    "duration = 20 # Days\n",
    "\n",
    "# Need to set a nominal center for the event\n",
    "# could just take mean of RA,dec HEALpix map I suppose\n",
    "ra_deg = 0.\n",
    "dec_deg = -90.\n",
    "\n",
    "# ToO type. Should probabably document the \n",
    "# options for this somewhere.\n",
    "too_type = \"lensed_BNS_case_A\" \n",
    "\n",
    "# Unique int ID for each event\n",
    "target_id = 100\n",
    "\n",
    "event = TargetoO(\n",
    "                target_id,\n",
    "                footprint,\n",
    "                event_start,\n",
    "                duration,\n",
    "                ra_rad_center=np.radians(ra_deg),\n",
    "                dec_rad_center=np.radians(dec_deg),\n",
    "                too_type=too_type)\n",
    "# Thing to pass to the ModelObservatory so it will send out\n",
    "# the ToO alert in the Conditions object\n",
    "sim_to_o = SimTargetooServer([event])\n"
   ]
  },
  {
   "cell_type": "code",
   "execution_count": 14,
   "id": "e4a21c6a-b525-4c00-ad6d-7bc3d05f92c1",
   "metadata": {
    "execution": {
     "iopub.execute_input": "2025-05-21T02:45:00.220859Z",
     "iopub.status.busy": "2025-05-21T02:45:00.220716Z",
     "iopub.status.idle": "2025-05-21T02:45:00.411526Z",
     "shell.execute_reply": "2025-05-21T02:45:00.411054Z",
     "shell.execute_reply.started": "2025-05-21T02:45:00.220845Z"
    }
   },
   "outputs": [
    {
     "data": {
      "image/png": "[encoded data removed]",
      "text/plain": [
       "<Figure size 850x540 with 2 Axes>"
      ]
     },
     "metadata": {},
     "output_type": "display_data"
    }
   ],
   "source": [
    "# here's what the target footprint looks like:\n",
    "hp.mollview(footprint)"
   ]
  },
  {
   "cell_type": "code",
   "execution_count": 15,
   "id": "65cae675-aa57-46a8-a7ec-aba6c95402ca",
   "metadata": {
    "execution": {
     "iopub.execute_input": "2025-05-21T02:45:00.412155Z",
     "iopub.status.busy": "2025-05-21T02:45:00.412015Z",
     "iopub.status.idle": "2025-05-21T02:45:05.652656Z",
     "shell.execute_reply": "2025-05-21T02:45:05.651923Z",
     "shell.execute_reply.started": "2025-05-21T02:45:00.412140Z"
    }
   },
   "outputs": [],
   "source": [
    "# model observatory with the ToO ready to go\n",
    "observatory = ModelObservatory(nside=nside, sim_to_o=sim_to_o)"
   ]
  },
  {
   "cell_type": "code",
   "execution_count": 16,
   "id": "9c326c7d-c593-46b0-8eca-80cbc6f0118c",
   "metadata": {
    "execution": {
     "iopub.execute_input": "2025-05-21T02:45:05.653805Z",
     "iopub.status.busy": "2025-05-21T02:45:05.653553Z",
     "iopub.status.idle": "2025-05-21T02:45:27.353139Z",
     "shell.execute_reply": "2025-05-21T02:45:27.352584Z",
     "shell.execute_reply.started": "2025-05-21T02:45:05.653775Z"
    }
   },
   "outputs": [
    {
     "name": "stdout",
     "output_type": "stream",
     "text": [
      "progress = 17.46%"
     ]
    },
    {
     "name": "stderr",
     "output_type": "stream",
     "text": [
      "/opt/lsst/software/stack/conda/envs/lsst-scipipe-10.0.0/lib/python3.12/site-packages/rubin_scheduler/scheduler/utils/utils.py:179: UserWarning: IntRounded being used with a potentially too-small scale factor.\n",
      "  warnings.warn(\"IntRounded being used with a potentially too-small scale factor.\")\n",
      "/opt/lsst/software/stack/conda/envs/lsst-scipipe-10.0.0/lib/python3.12/site-packages/rubin_scheduler/skybrightness_pre/sky_model_pre.py:359: UserWarning: Requested MJD between sunrise and sunset, returning closest maps\n",
      "  warnings.warn(\"Requested MJD between sunrise and sunset, returning closest maps\")\n"
     ]
    },
    {
     "name": "stdout",
     "output_type": "stream",
     "text": [
      "progress = 500.33%Skipped 0 observations\n",
      "Flushed 0 observations from queue for being stale\n",
      "Completed 1219 observations\n",
      "ran in 0 min = 0.0 hours\n"
     ]
    }
   ],
   "source": [
    "# simulate for 2 days\n",
    "observatory, scheduler, observations = sim_runner(\n",
    "        observatory,\n",
    "        scheduler,\n",
    "            sim_duration=2,\n",
    "        filename=None,\n",
    "        verbose=True,\n",
    "    )"
   ]
  },
  {
   "cell_type": "code",
   "execution_count": 17,
   "id": "1102ba03-302b-4f43-b84a-70f129138eb7",
   "metadata": {
    "execution": {
     "iopub.execute_input": "2025-05-21T02:45:27.353820Z",
     "iopub.status.busy": "2025-05-21T02:45:27.353670Z",
     "iopub.status.idle": "2025-05-21T02:45:27.357553Z",
     "shell.execute_reply": "2025-05-21T02:45:27.357178Z",
     "shell.execute_reply.started": "2025-05-21T02:45:27.353805Z"
    }
   },
   "outputs": [
    {
     "data": {
      "text/plain": [
       "array(['ToO, LensedBNS_A, 100_t1_i0, 1', 'ToO, LensedBNS_A, 100_t1_i0, 4',\n",
       "       'ToO, LensedBNS_A, 100_t1_i1, 5', 'ToO, LensedBNS_A, 100_t1_i1, 8',\n",
       "       'blob_long, gr, a', 'blob_long, gr, b', 'greedy', 'long, 1',\n",
       "       'long, 10', 'long, 11', 'long, 12', 'long, 13', 'long, 14',\n",
       "       'long, 15', 'long, 16', 'long, 17', 'long, 18', 'long, 19',\n",
       "       'long, 2', 'long, 20', 'long, 21', 'long, 22', 'long, 23',\n",
       "       'long, 24', 'long, 25', 'long, 26', 'long, 27', 'long, 28',\n",
       "       'long, 29', 'long, 3', 'long, 30', 'long, 31', 'long, 32',\n",
       "       'long, 33', 'long, 34', 'long, 35', 'long, 4', 'long, 5',\n",
       "       'long, 6', 'long, 7', 'long, 8', 'long, 9', 'pair_15, iz, a',\n",
       "       'pair_15, iz, b', 'pair_15, ri, a', 'pair_15, ri, b',\n",
       "       'pair_33, gr, a', 'pair_33, gr, b', 'twilight_near_sun, 0',\n",
       "       'twilight_near_sun, 1', 'twilight_near_sun, 2',\n",
       "       'twilight_near_sun, 3'], dtype='<U40')"
      ]
     },
     "execution_count": 17,
     "metadata": {},
     "output_type": "execute_result"
    }
   ],
   "source": [
    "# Did we execute some ToO observaitons?\n",
    "np.unique(observations[\"scheduler_note\"])"
   ]
  },
  {
   "cell_type": "code",
   "execution_count": 18,
   "id": "6ffe6ea7-4713-4de8-98f6-199e34dbfb91",
   "metadata": {
    "execution": {
     "iopub.execute_input": "2025-05-21T02:45:27.358159Z",
     "iopub.status.busy": "2025-05-21T02:45:27.358028Z",
     "iopub.status.idle": "2025-05-21T02:45:27.475421Z",
     "shell.execute_reply": "2025-05-21T02:45:27.474938Z",
     "shell.execute_reply.started": "2025-05-21T02:45:27.358146Z"
    }
   },
   "outputs": [
    {
     "data": {
      "text/plain": [
       "Text(0.5, 1.0, 'ToO observations')"
      ]
     },
     "execution_count": 18,
     "metadata": {},
     "output_type": "execute_result"
    },
    {
     "data": {
      "image/png": "[encoded data removed]",
      "text/plain": [
       "<Figure size 640x480 with 1 Axes>"
      ]
     },
     "metadata": {},
     "output_type": "display_data"
    }
   ],
   "source": [
    "# Check that ToO events are where we think they should be\n",
    "too_indx = [\"ToO\" in note for note in observations[\"scheduler_note\"]]\n",
    "\n",
    "fig, ax = plt.subplots()\n",
    "\n",
    "\n",
    "ax.scatter(np.degrees(observations[\"RA\"]), np.degrees(observations[\"dec\"]), color='black')\n",
    "\n",
    "ax.scatter(np.degrees(observations[\"RA\"][too_indx]), np.degrees(observations[\"dec\"][too_indx]), color=\"red\")\n",
    "ax.set_xlabel(\"RA (deg)\")\n",
    "ax.set_ylabel(\"Dec (deg)\")\n",
    "ax.set_title(\"ToO observations\")"
   ]
  },
  {
   "cell_type": "code",
   "execution_count": null,
   "id": "f02a86ee-5b76-464b-8563-0204b139b548",
   "metadata": {},
   "outputs": [],
   "source": []
  }
 ],
 "metadata": {
  "kernelspec": {
   "display_name": "LSST",
   "language": "python",
   "name": "lsst"
  },
  "language_info": {
   "codemirror_mode": {
    "name": "ipython",
    "version": 3
   },
   "file_extension": ".py",
   "mimetype": "text/x-python",
   "name": "python",
   "nbconvert_exporter": "python",
   "pygments_lexer": "ipython3",
   "version": "3.12.10"
  }
 },
 "nbformat": 4,
 "nbformat_minor": 5
}
