{
 "cells": [
  {
   "cell_type": "code",
   "execution_count": 62,
   "id": "166db4c2-57cf-430a-8b98-9c1dda337ab8",
   "metadata": {},
   "outputs": [],
   "source": [
    "import random\n",
    "import numpy as np\n",
    "from astropy.coordinates import SkyCoord\n",
    "import astropy.units as u\n",
    "\n",
    "def generate_scattered_lines_hms_dms(\n",
    "    center_ra_deg,\n",
    "    center_dec_deg,\n",
    "    n_lines=10,\n",
    "    scatter_arcsec=5.0,\n",
    "    id_prefix=\"src\",\n",
    "    number_generator=None,\n",
    "):\n",
    "    \"\"\"\n",
    "    Generate lines with RA/Dec around a center, formatted as hh:mm.mm ±dd:mm.mm.\n",
    "\n",
    "    Parameters\n",
    "    ----------\n",
    "    center_ra_deg : float\n",
    "        Central RA in degrees.\n",
    "    center_dec_deg : float\n",
    "        Central Dec in degrees.\n",
    "    n_lines : int\n",
    "        Number of lines to generate.\n",
    "    scatter_arcsec : float\n",
    "        Max positional scatter in arcseconds.\n",
    "    id_prefix : str\n",
    "        Source ID prefix.\n",
    "    number_generator : callable or None\n",
    "        Function to generate 4 numbers. If None, use random values.\n",
    "\n",
    "    Returns\n",
    "    -------\n",
    "    list of str\n",
    "        Lines in the form: id hh:mm.mm ±dd:mm.mm num1 num2 num3 num4\n",
    "    \"\"\"\n",
    "    center = SkyCoord(ra=center_ra_deg * u.deg, dec=center_dec_deg * u.deg, frame=\"icrs\")\n",
    "    lines = []\n",
    "\n",
    "    for i in range(n_lines):\n",
    "        # Scatter around center position\n",
    "        theta = np.random.uniform(0, 2 * np.pi)\n",
    "        r = np.random.uniform(0, scatter_arcsec / 3600.0)  # in degrees\n",
    "        # delta_ra = r * np.cos(theta) / np.cos(np.deg2rad(center_dec_deg))\n",
    "        delta_ra = 0\n",
    "        delta_dec = r * np.sin(theta)\n",
    "        # delta_dec = 0\n",
    "\n",
    "        scattered = SkyCoord(\n",
    "            ra=(center.ra.deg + delta_ra) * u.deg,\n",
    "            dec=(center.dec.deg + delta_dec) * u.deg,\n",
    "            frame=\"icrs\"\n",
    "        )\n",
    "\n",
    "        # RA: convert degrees → hours, then format as hh:mm.mm\n",
    "        ra_hours = scattered.ra.hour\n",
    "        ra_h = int(ra_hours)\n",
    "        ra_m = (ra_hours - ra_h) * 60\n",
    "        ra_str = f\"{ra_h:02d}:{ra_m:05.2f}\"\n",
    "\n",
    "        # Dec: format as ±dd:mm.mm\n",
    "        dec_deg_total = scattered.dec.deg\n",
    "        sign = \"+\" if dec_deg_total >= 0 else \"-\"\n",
    "        dec_deg = int(abs(dec_deg_total))\n",
    "        dec_min = (abs(dec_deg_total) - dec_deg) * 60\n",
    "        dec_str = f\"{sign}{dec_deg:02d}:{dec_min:05.2f}\"\n",
    "\n",
    "        # Generate numbers\n",
    "        if number_generator is None:\n",
    "            nums = [f\"{random.uniform(0, 1):.3f}\" for _ in range(4)]\n",
    "        else:\n",
    "            nums = [f\"{x:.3f}\" for x in number_generator(i)]\n",
    "\n",
    "        dist = 80000*(0.9+0.2*np.random.random_sample())\n",
    "\n",
    "        line = f\"{id_prefix}{i} {ra_str} {dec_str} {dist} {' '.join(nums)}\"\n",
    "        lines.append(line)\n",
    "\n",
    "    return lines"
   ]
  },
  {
   "cell_type": "code",
   "execution_count": null,
   "id": "1cd290ff-b8d6-42f1-b095-96b1e6461eca",
   "metadata": {},
   "outputs": [],
   "source": [
    "lines = generate_scattered_lines_hms_dms(\n",
    "    center_ra_deg=267.0,\n",
    "    center_dec_deg=-18.0,\n",
    "    n_lines=int(2E5),\n",
    "    scatter_arcsec=2.0 * 3600,\n",
    "    id_prefix=\"123\"\n",
    ")"
   ]
  },
  {
   "cell_type": "code",
   "execution_count": null,
   "id": "0ef18c28-23cd-46ef-8f29-83d8f4969d05",
   "metadata": {},
   "outputs": [],
   "source": [
    "with open(\"../bayestarInjs/host_galaxies.txt\", \"w\") as f:\n",
    "    for line in lines:\n",
    "        f.writelines(line+\"\\n\")"
   ]
  },
  {
   "cell_type": "code",
   "execution_count": null,
   "id": "27b283fa-9139-4fdb-a2bd-903359ebf3f6",
   "metadata": {},
   "outputs": [],
   "source": [
    "line"
   ]
  },
  {
   "cell_type": "code",
   "execution_count": null,
   "id": "02ad9c17-da0d-42c6-8dfd-7f751d8085b1",
   "metadata": {},
   "outputs": [],
   "source": []
  }
 ],
 "metadata": {
  "kernelspec": {
   "display_name": "Python 3 (ipykernel)",
   "language": "python",
   "name": "python3"
  },
  "language_info": {
   "codemirror_mode": {
    "name": "ipython",
    "version": 3
   },
   "file_extension": ".py",
   "mimetype": "text/x-python",
   "name": "python",
   "nbconvert_exporter": "python",
   "pygments_lexer": "ipython3",
   "version": "3.13.3"
  }
 },
 "nbformat": 4,
 "nbformat_minor": 5
}
