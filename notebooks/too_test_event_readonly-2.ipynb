{
 "cells": [
  {
   "cell_type": "markdown",
   "id": "372e6799-5c53-4deb-ac85-cde1d76e4bd0",
   "metadata": {},
   "source": [
    "# Make mock events, and evaluate the resulting strategy\n",
    "\n",
    "After each run, you MUST restart your kernel"
   ]
  },
  {
   "cell_type": "code",
   "execution_count": 1,
   "id": "cbe5ce3e-f70c-4ca0-be8d-94adb8f33383",
   "metadata": {
    "execution": {
     "iopub.execute_input": "2025-05-22T17:33:38.956976Z",
     "iopub.status.busy": "2025-05-22T17:33:38.956837Z",
     "iopub.status.idle": "2025-05-22T17:33:40.360242Z",
     "shell.execute_reply": "2025-05-22T17:33:40.359717Z",
     "shell.execute_reply.started": "2025-05-22T17:33:38.956962Z"
    }
   },
   "outputs": [],
   "source": [
    "from rubin_scheduler.scheduler.example import example_scheduler\n",
    "from rubin_scheduler.scheduler.schedulers import core_scheduler\n",
    "import numpy as np\n",
    "import healpy as hp\n",
    "import healsparse\n",
    "from rubin_scheduler.scheduler.utils import SimTargetooServer, TargetoO\n",
    "from rubin_scheduler.scheduler.model_observatory import ModelObservatory\n",
    "\n",
    "from rubin_scheduler.scheduler import sim_runner\n",
    "from rubin_scheduler.scheduler.surveys.too_scripted_surveys import ToOScriptedSurvey\n",
    "\n",
    "import rubin_scheduler.scheduler.basis_functions as basis_functions\n",
    "import matplotlib.pylab as plt\n",
    "%matplotlib inline"
   ]
  },
  {
   "cell_type": "code",
   "execution_count": 2,
   "id": "1c4ddfc9-74fd-4254-9270-5bb2e7ddd13c",
   "metadata": {
    "execution": {
     "iopub.execute_input": "2025-05-22T17:33:40.361120Z",
     "iopub.status.busy": "2025-05-22T17:33:40.360795Z",
     "iopub.status.idle": "2025-05-22T17:33:40.364518Z",
     "shell.execute_reply": "2025-05-22T17:33:40.364126Z",
     "shell.execute_reply.started": "2025-05-22T17:33:40.361103Z"
    }
   },
   "outputs": [
    {
     "data": {
      "text/plain": [
       "'3.8.1.dev4+gafe4d83'"
      ]
     },
     "execution_count": 2,
     "metadata": {},
     "output_type": "execute_result"
    }
   ],
   "source": [
    "import rubin_scheduler\n",
    "rubin_scheduler.__version__"
   ]
  },
  {
   "cell_type": "code",
   "execution_count": 3,
   "id": "31cc135b-4ade-426c-a2cc-89b55942d0d8",
   "metadata": {
    "execution": {
     "iopub.execute_input": "2025-05-22T17:33:40.365119Z",
     "iopub.status.busy": "2025-05-22T17:33:40.364975Z",
     "iopub.status.idle": "2025-05-22T17:34:15.760110Z",
     "shell.execute_reply": "2025-05-22T17:34:15.759590Z",
     "shell.execute_reply.started": "2025-05-22T17:33:40.365105Z"
    }
   },
   "outputs": [
    {
     "name": "stderr",
     "output_type": "stream",
     "text": [
      "cat: /opt/lsst/software/stack/conda/envs/lsst-scipipe-10.0.0/lib/python3.12/site-packages/rubin_scheduler/../.git/refs/heads/main: No such file or directory\n"
     ]
    },
    {
     "name": "stdout",
     "output_type": "stream",
     "text": [
      "Optimizing ELAISS1\n",
      "Optimizing XMM_LSS\n",
      "Optimizing ECDFS\n",
      "Optimizing COSMOS\n",
      "Optimizing EDFS_a\n"
     ]
    },
    {
     "name": "stderr",
     "output_type": "stream",
     "text": [
      "/opt/lsst/software/stack/conda/envs/lsst-scipipe-10.0.0/lib/python3.12/site-packages/rubin_scheduler/scheduler/surveys/roman_surveys.py:42: UserWarning: Generating Roman survey place holder. Should probably not be in production.\n",
      "  warnings.warn(\"Generating Roman survey place holder. Should probably not be in production.\")\n",
      "/opt/lsst/software/stack/conda/envs/lsst-scipipe-10.0.0/lib/python3.12/site-packages/rubin_scheduler/scheduler/surveys/roman_surveys.py:95: UserWarning: Generating Roman survey place holder. Should probably not be in production.\n",
      "  warnings.warn(\"Generating Roman survey place holder. Should probably not be in production.\")\n",
      "/opt/lsst/software/stack/conda/envs/lsst-scipipe-10.0.0/lib/python3.12/site-packages/erfa/core.py:133: ErfaWarning: ERFA function \"utctai\" yielded 463 of \"dubious year (Note 3)\"\n",
      "  warn(f'ERFA function \"{func_name}\" yielded {wmsg}', ErfaWarning)\n",
      "/opt/lsst/software/stack/conda/envs/lsst-scipipe-10.0.0/lib/python3.12/site-packages/erfa/core.py:133: ErfaWarning: ERFA function \"taiutc\" yielded 463 of \"dubious year (Note 4)\"\n",
      "  warn(f'ERFA function \"{func_name}\" yielded {wmsg}', ErfaWarning)\n",
      "/opt/lsst/software/stack/conda/envs/lsst-scipipe-10.0.0/lib/python3.12/site-packages/erfa/core.py:133: ErfaWarning: ERFA function \"utctai\" yielded 162 of \"dubious year (Note 3)\"\n",
      "  warn(f'ERFA function \"{func_name}\" yielded {wmsg}', ErfaWarning)\n",
      "/opt/lsst/software/stack/conda/envs/lsst-scipipe-10.0.0/lib/python3.12/site-packages/erfa/core.py:133: ErfaWarning: ERFA function \"taiutc\" yielded 162 of \"dubious year (Note 4)\"\n",
      "  warn(f'ERFA function \"{func_name}\" yielded {wmsg}', ErfaWarning)\n"
     ]
    }
   ],
   "source": [
    "exsched = example_scheduler()"
   ]
  },
  {
   "cell_type": "code",
   "execution_count": 4,
   "id": "f143e2a7-130e-4cbf-a365-7dc6c0357241",
   "metadata": {
    "execution": {
     "iopub.execute_input": "2025-05-22T17:34:15.763060Z",
     "iopub.status.busy": "2025-05-22T17:34:15.762318Z",
     "iopub.status.idle": "2025-05-22T17:34:16.075507Z",
     "shell.execute_reply": "2025-05-22T17:34:16.075016Z",
     "shell.execute_reply.started": "2025-05-22T17:34:15.763038Z"
    }
   },
   "outputs": [],
   "source": [
    "bf_list = []\n",
    "bf_list.append(basis_functions.AvoidDirectWind(wind_speed_maximum=20, nside=32))\n",
    "bf_list.append(basis_functions.MoonAvoidanceBasisFunction(moon_distance=30.0))\n",
    "\n",
    "\n",
    "times = [0,24, 48, 72]\n",
    "bands_at_times = [\"gri\", \"ri\", \"ri\", \"ri\"]\n",
    "nvis = [3, 1, 1, 1]\n",
    "exptimes = [120.0, 180.0, 180.0, 180.0]\n",
    "\n",
    "ToOTemp = ToOScriptedSurvey(\n",
    "            bf_list,\n",
    "            nside=32,\n",
    "            followup_footprint=None,\n",
    "            times=times,\n",
    "            bands_at_times=bands_at_times,\n",
    "            nvis=nvis,\n",
    "            exptimes=exptimes,\n",
    "            detailers=None,\n",
    "            too_types_to_follow=[\"GW_case_D*\", \"GW_case_E*\"],\n",
    "            survey_name=\"ToO, GW_case_D_E*\",\n",
    "            target_name_base=\"GW_case_D_E*\",\n",
    "            split_long=False,\n",
    "            flushtime=96,\n",
    "            n_snaps=2,\n",
    "            # event_gen_detailers=None,\n",
    "        )"
   ]
  },
  {
   "cell_type": "code",
   "execution_count": 5,
   "id": "45a192c2-4350-443c-b2a5-b13caf497cb8",
   "metadata": {
    "execution": {
     "iopub.execute_input": "2025-05-22T17:34:16.076233Z",
     "iopub.status.busy": "2025-05-22T17:34:16.076088Z",
     "iopub.status.idle": "2025-05-22T17:34:16.078836Z",
     "shell.execute_reply": "2025-05-22T17:34:16.078443Z",
     "shell.execute_reply.started": "2025-05-22T17:34:16.076217Z"
    }
   },
   "outputs": [],
   "source": [
    "survs = exsched.survey_lists\n",
    "survs[0].append(ToOTemp)"
   ]
  },
  {
   "cell_type": "code",
   "execution_count": 6,
   "id": "e5316775-3620-4f56-b0f0-9d0dc5452bdd",
   "metadata": {
    "execution": {
     "iopub.execute_input": "2025-05-22T17:34:16.079535Z",
     "iopub.status.busy": "2025-05-22T17:34:16.079394Z",
     "iopub.status.idle": "2025-05-22T17:34:16.094771Z",
     "shell.execute_reply": "2025-05-22T17:34:16.094374Z",
     "shell.execute_reply.started": "2025-05-22T17:34:16.079520Z"
    }
   },
   "outputs": [
    {
     "data": {
      "text/plain": [
       "[[<ToOScriptedSurvey survey_name='ToO, GW_case_A' at 0x7fad5a5442c0>,\n",
       "  <ToOScriptedSurvey survey_name='ToO, GW_case_B_C' at 0x7fad5dfc97c0>,\n",
       "  <ToOScriptedSurvey survey_name='ToO, GW_case_D_E' at 0x7fad5f4053d0>,\n",
       "  <ToOScriptedSurvey survey_name='ToO, BBH' at 0x7fad5a75bd70>,\n",
       "  <ToOScriptedSurvey survey_name='ToO, LensedBNS_A' at 0x7fad5a372ff0>,\n",
       "  <ToOScriptedSurvey survey_name='ToO, LensedBNS_B' at 0x7fad5e486210>,\n",
       "  <ToOScriptedSurvey survey_name='ToO, neutrino' at 0x7fad5e057470>,\n",
       "  <ToOScriptedSurvey survey_name='ToO, neutrino_u' at 0x7fad5d6df3e0>,\n",
       "  <ToOScriptedSurvey survey_name='ToO, SSO_night' at 0x7fad5e427740>,\n",
       "  <ToOScriptedSurvey survey_name='ToO, SSO_twi' at 0x7fad5e4a4710>,\n",
       "  <ToOScriptedSurvey survey_name='ToO, GW_case_D_E*' at 0x7fad733bb260>],\n",
       " [<DeepDrillingSurvey survey_name='DD: RGES_onseason', RA=4.689839326448923, dec=-0.505709150765357 at 0x7fad5a7f8f80>,\n",
       "  <DeepDrillingSurvey survey_name='DD: RGES_offseason', RA=4.689839326448923, dec=-0.505709150765357 at 0x7fad5a7f8c50>],\n",
       " [<ScriptedSurvey survey_name='' at 0x7fad5e4a7560>,\n",
       "  <ScriptedSurvey survey_name='' at 0x7fad5e027ec0>],\n",
       " [<LongGapSurvey survey_name='Long Gap (Long Gap blob_long, gr + Triplet)' at 0x7fad5d6beae0>,\n",
       "  <LongGapSurvey survey_name='Long Gap (Long Gap blob_long, ri + Triplet)' at 0x7fad5f28f260>,\n",
       "  <LongGapSurvey survey_name='Long Gap (Long Gap blob_long, iz + Triplet)' at 0x7fad7393a720>],\n",
       " [<BlobSurvey survey_name='pair_33, ug' at 0x7fad5a7cb230>,\n",
       "  <BlobSurvey survey_name='pair_33, ur' at 0x7fad5a75b380>,\n",
       "  <BlobSurvey survey_name='pair_33, gr' at 0x7fad5a77b5f0>,\n",
       "  <BlobSurvey survey_name='pair_33, ri' at 0x7fad5b08f260>,\n",
       "  <BlobSurvey survey_name='pair_33, iz' at 0x7fad5b18caa0>,\n",
       "  <BlobSurvey survey_name='pair_33, zy' at 0x7fad5ca83cb0>,\n",
       "  <BlobSurvey survey_name='pair_33, yy' at 0x7fad5a73b080>],\n",
       " [<BlobSurvey survey_name='pair_15, ri' at 0x7fad5a5e3560>,\n",
       "  <BlobSurvey survey_name='pair_15, iz' at 0x7fad5a5364b0>,\n",
       "  <BlobSurvey survey_name='pair_15, zy' at 0x7fad5d746810>,\n",
       "  <BlobSurvey survey_name='pair_15, yy' at 0x7fad5b0cb230>],\n",
       " [<BlobSurvey survey_name='twilight_near_sun' at 0x7fad5b0ea150>,\n",
       "  <BlobSurvey survey_name='twilight_near_sun' at 0x7fad5a7fb200>,\n",
       "  <BlobSurvey survey_name='twilight_near_sun' at 0x7fad5ca9be90>],\n",
       " [<GreedySurvey survey_name='greedy' at 0x7fad5ca82b40>,\n",
       "  <GreedySurvey survey_name='greedy' at 0x7fad5a739880>,\n",
       "  <GreedySurvey survey_name='greedy' at 0x7fad5a535d90>,\n",
       "  <GreedySurvey survey_name='greedy' at 0x7fad5d747380>]]"
      ]
     },
     "execution_count": 6,
     "metadata": {},
     "output_type": "execute_result"
    }
   ],
   "source": [
    "survs"
   ]
  },
  {
   "cell_type": "code",
   "execution_count": 7,
   "id": "5f09e0b1-2923-40c7-9776-e22c8047f43b",
   "metadata": {
    "execution": {
     "iopub.execute_input": "2025-05-22T17:34:16.106283Z",
     "iopub.status.busy": "2025-05-22T17:34:16.106045Z",
     "iopub.status.idle": "2025-05-22T17:34:16.128123Z",
     "shell.execute_reply": "2025-05-22T17:34:16.127737Z",
     "shell.execute_reply.started": "2025-05-22T17:34:16.106265Z"
    }
   },
   "outputs": [],
   "source": [
    "# load up the example scheduler, which has ToO surveys included by default\n",
    "scheduler = core_scheduler.CoreScheduler(survs)"
   ]
  },
  {
   "cell_type": "code",
   "execution_count": 8,
   "id": "efa603f2-673b-4902-953d-dd151f741593",
   "metadata": {
    "execution": {
     "iopub.execute_input": "2025-05-22T17:34:16.128705Z",
     "iopub.status.busy": "2025-05-22T17:34:16.128575Z",
     "iopub.status.idle": "2025-05-22T17:34:21.705055Z",
     "shell.execute_reply": "2025-05-22T17:34:21.704511Z",
     "shell.execute_reply.started": "2025-05-22T17:34:16.128692Z"
    }
   },
   "outputs": [],
   "source": [
    "nside = 32\n",
    "observatory = ModelObservatory(nside=nside,)# sim_to_o=sim_to_o)"
   ]
  },
  {
   "cell_type": "code",
   "execution_count": 9,
   "id": "13721b10-ac6f-44a2-9668-71c55e2d0538",
   "metadata": {
    "execution": {
     "iopub.execute_input": "2025-05-22T17:34:21.705821Z",
     "iopub.status.busy": "2025-05-22T17:34:21.705653Z",
     "iopub.status.idle": "2025-05-22T17:34:21.709157Z",
     "shell.execute_reply": "2025-05-22T17:34:21.708690Z",
     "shell.execute_reply.started": "2025-05-22T17:34:21.705805Z"
    }
   },
   "outputs": [],
   "source": [
    "vec = hp.ang2vec(1.5*np.pi / 2, np.pi * 0 / 4)\n",
    "ipix_disc = hp.query_disc(nside=nside, vec=vec, radius=np.radians(4)) # This makes a ~50 deg^2 area\n",
    "ipix_disc = hp.query_disc(nside=nside, vec=vec, radius=np.radians(2)) # This makes a ~12 deg^2 area"
   ]
  },
  {
   "cell_type": "code",
   "execution_count": 15,
   "id": "88497390-8e24-43d5-b79e-cf1960924b67",
   "metadata": {
    "execution": {
     "iopub.execute_input": "2025-05-22T17:53:32.532166Z",
     "iopub.status.busy": "2025-05-22T17:53:32.531398Z",
     "iopub.status.idle": "2025-05-22T17:53:32.547198Z",
     "shell.execute_reply": "2025-05-22T17:53:32.546608Z",
     "shell.execute_reply.started": "2025-05-22T17:53:32.532147Z"
    }
   },
   "outputs": [
    {
     "ename": "TypeError",
     "evalue": "TargetoO.__init__() got an unexpected keyword argument 'posterior_distance'",
     "output_type": "error",
     "traceback": [
      "\u001b[0;31m---------------------------------------------------------------------------\u001b[0m",
      "\u001b[0;31mTypeError\u001b[0m                                 Traceback (most recent call last)",
      "Cell \u001b[0;32mIn[15], line 25\u001b[0m\n\u001b[1;32m     22\u001b[0m \u001b[38;5;66;03m# Unique int ID for each event\u001b[39;00m\n\u001b[1;32m     23\u001b[0m target_id \u001b[38;5;241m=\u001b[39m \u001b[38;5;241m100\u001b[39m\n\u001b[0;32m---> 25\u001b[0m event \u001b[38;5;241m=\u001b[39m \u001b[43mrubin_scheduler\u001b[49m\u001b[38;5;241;43m.\u001b[39;49m\u001b[43mscheduler\u001b[49m\u001b[38;5;241;43m.\u001b[39;49m\u001b[43mutils\u001b[49m\u001b[38;5;241;43m.\u001b[39;49m\u001b[43mTargetoO\u001b[49m\u001b[43m(\u001b[49m\n\u001b[1;32m     26\u001b[0m \u001b[43m                \u001b[49m\u001b[43mtarget_id\u001b[49m\u001b[43m,\u001b[49m\n\u001b[1;32m     27\u001b[0m \u001b[43m                \u001b[49m\u001b[43mfootprint\u001b[49m\u001b[43m,\u001b[49m\n\u001b[1;32m     28\u001b[0m \u001b[43m                \u001b[49m\u001b[43mevent_start\u001b[49m\u001b[43m,\u001b[49m\n\u001b[1;32m     29\u001b[0m \u001b[43m                \u001b[49m\u001b[43mduration\u001b[49m\u001b[43m,\u001b[49m\n\u001b[1;32m     30\u001b[0m \u001b[43m                \u001b[49m\u001b[43mra_rad_center\u001b[49m\u001b[38;5;241;43m=\u001b[39;49m\u001b[43mnp\u001b[49m\u001b[38;5;241;43m.\u001b[39;49m\u001b[43mradians\u001b[49m\u001b[43m(\u001b[49m\u001b[43mra_deg\u001b[49m\u001b[43m)\u001b[49m\u001b[43m,\u001b[49m\n\u001b[1;32m     31\u001b[0m \u001b[43m                \u001b[49m\u001b[43mdec_rad_center\u001b[49m\u001b[38;5;241;43m=\u001b[39;49m\u001b[43mnp\u001b[49m\u001b[38;5;241;43m.\u001b[39;49m\u001b[43mradians\u001b[49m\u001b[43m(\u001b[49m\u001b[43mdec_deg\u001b[49m\u001b[43m)\u001b[49m\u001b[43m,\u001b[49m\n\u001b[1;32m     32\u001b[0m \u001b[43m                \u001b[49m\u001b[43mtoo_type\u001b[49m\u001b[38;5;241;43m=\u001b[39;49m\u001b[43mtoo_type\u001b[49m\u001b[43m,\u001b[49m\n\u001b[1;32m     33\u001b[0m \u001b[43m                \u001b[49m\u001b[43mposterior_distance\u001b[49m\u001b[38;5;241;43m=\u001b[39;49m\u001b[38;5;241;43m30E10\u001b[39;49m\u001b[43m)\u001b[49m\n\u001b[1;32m     34\u001b[0m \u001b[38;5;66;03m# Thing to pass to the ModelObservatory so it will send out\u001b[39;00m\n\u001b[1;32m     35\u001b[0m \u001b[38;5;66;03m# the ToO alert in the Conditions object\u001b[39;00m\n\u001b[1;32m     36\u001b[0m sim_to_o \u001b[38;5;241m=\u001b[39m SimTargetooServer([event])\n",
      "\u001b[0;31mTypeError\u001b[0m: TargetoO.__init__() got an unexpected keyword argument 'posterior_distance'"
     ]
    }
   ],
   "source": [
    "# Make a ToO event\n",
    "\n",
    "# Make a healpix map, can be any nside\n",
    "footprint = np.zeros(hp.nside2npix(nside))\n",
    "# # Set some healpix near the pole to be where to observe\n",
    "# footprint[-8:] = 1\n",
    "footprint[ipix_disc] =1\n",
    "\n",
    "# Set the event to go off at the start of the survey\n",
    "event_start = observatory.mjd\n",
    "duration = 10 # Days\n",
    "\n",
    "# Need to set a nominal center for the event\n",
    "# could just take mean of RA,dec HEALpix map I suppose\n",
    "ra_deg = 45.\n",
    "dec_deg = -45.\n",
    "\n",
    "# ToO type. Should probabably document the \n",
    "# options for this somewhere.\n",
    "too_type = \"BBH_case_B\" \n",
    "\n",
    "# Unique int ID for each event\n",
    "target_id = 100\n",
    "\n",
    "event = TargetoO(\n",
    "                target_id,\n",
    "                footprint,\n",
    "                event_start,\n",
    "                duration,\n",
    "                ra_rad_center=np.radians(ra_deg),\n",
    "                dec_rad_center=np.radians(dec_deg),\n",
    "                too_type=too_type)\n",
    "                # posterior_distance=30E10)\n",
    "# Thing to pass to the ModelObservatory so it will send out\n",
    "# the ToO alert in the Conditions object\n",
    "sim_to_o = SimTargetooServer([event])\n"
   ]
  },
  {
   "cell_type": "code",
   "execution_count": 13,
   "id": "685bf5b2-9a8b-49c2-b3b1-aa6c9bc65504",
   "metadata": {
    "execution": {
     "iopub.execute_input": "2025-05-22T17:52:45.518904Z",
     "iopub.status.busy": "2025-05-22T17:52:45.518678Z",
     "iopub.status.idle": "2025-05-22T17:52:45.522725Z",
     "shell.execute_reply": "2025-05-22T17:52:45.522160Z",
     "shell.execute_reply.started": "2025-05-22T17:52:45.518888Z"
    }
   },
   "outputs": [
    {
     "data": {
      "text/plain": [
       "['footprint',\n",
       " 'duration',\n",
       " 'id',\n",
       " 'mjd_start',\n",
       " 'ra_rad_center',\n",
       " 'dec_rad_center',\n",
       " 'too_type',\n",
       " '__module__',\n",
       " '__doc__',\n",
       " '__init__',\n",
       " '__dict__',\n",
       " '__weakref__',\n",
       " '__new__',\n",
       " '__repr__',\n",
       " '__hash__',\n",
       " '__str__',\n",
       " '__getattribute__',\n",
       " '__setattr__',\n",
       " '__delattr__',\n",
       " '__lt__',\n",
       " '__le__',\n",
       " '__eq__',\n",
       " '__ne__',\n",
       " '__gt__',\n",
       " '__ge__',\n",
       " '__reduce_ex__',\n",
       " '__reduce__',\n",
       " '__getstate__',\n",
       " '__subclasshook__',\n",
       " '__init_subclass__',\n",
       " '__format__',\n",
       " '__sizeof__',\n",
       " '__dir__',\n",
       " '__class__']"
      ]
     },
     "execution_count": 13,
     "metadata": {},
     "output_type": "execute_result"
    }
   ],
   "source": [
    "event.__dir__()"
   ]
  },
  {
   "cell_type": "code",
   "execution_count": null,
   "id": "e4a21c6a-b525-4c00-ad6d-7bc3d05f92c1",
   "metadata": {
    "execution": {
     "iopub.status.busy": "2025-05-22T16:03:57.476311Z",
     "iopub.status.idle": "2025-05-22T16:03:57.476467Z",
     "shell.execute_reply": "2025-05-22T16:03:57.476392Z",
     "shell.execute_reply.started": "2025-05-22T16:03:57.476384Z"
    },
    "scrolled": true
   },
   "outputs": [],
   "source": [
    "# here's what the target footprint looks like:\n",
    "hp.mollview(footprint,min=0,max=1,title=\"GW Gold test event\")"
   ]
  },
  {
   "cell_type": "code",
   "execution_count": null,
   "id": "3951ab63-4ef1-4fa9-b81f-49cf39026a3b",
   "metadata": {
    "execution": {
     "iopub.status.busy": "2025-05-22T16:03:57.477155Z",
     "iopub.status.idle": "2025-05-22T16:03:57.477332Z",
     "shell.execute_reply": "2025-05-22T16:03:57.477253Z",
     "shell.execute_reply.started": "2025-05-22T16:03:57.477245Z"
    }
   },
   "outputs": [],
   "source": [
    "observatory.mjd"
   ]
  },
  {
   "cell_type": "code",
   "execution_count": null,
   "id": "65cae675-aa57-46a8-a7ec-aba6c95402ca",
   "metadata": {
    "execution": {
     "iopub.status.busy": "2025-05-22T15:55:44.652414Z",
     "iopub.status.idle": "2025-05-22T15:55:44.652566Z",
     "shell.execute_reply": "2025-05-22T15:55:44.652494Z",
     "shell.execute_reply.started": "2025-05-22T15:55:44.652487Z"
    }
   },
   "outputs": [],
   "source": [
    "# model observatory with the ToO ready to go\n",
    "observatory =  ModelObservatory(nside=nside, sim_to_o=sim_to_o, downtimes=\"ideal\", cloud_data=\"ideal\",)"
   ]
  },
  {
   "cell_type": "code",
   "execution_count": null,
   "id": "9c326c7d-c593-46b0-8eca-80cbc6f0118c",
   "metadata": {
    "execution": {
     "iopub.status.busy": "2025-05-22T15:55:44.653190Z",
     "iopub.status.idle": "2025-05-22T15:55:44.653352Z",
     "shell.execute_reply": "2025-05-22T15:55:44.653277Z",
     "shell.execute_reply.started": "2025-05-22T15:55:44.653269Z"
    }
   },
   "outputs": [],
   "source": [
    "# simulate for 10 days\n",
    "observatory, scheduler, observations = sim_runner(\n",
    "        observatory,\n",
    "        scheduler,\n",
    "        sim_duration=np.array([44.0]),\n",
    "        filename=None,\n",
    "        verbose=True,\n",
    "    )"
   ]
  },
  {
   "cell_type": "code",
   "execution_count": null,
   "id": "1102ba03-302b-4f43-b84a-70f129138eb7",
   "metadata": {
    "execution": {
     "iopub.status.busy": "2025-05-22T15:55:44.653909Z",
     "iopub.status.idle": "2025-05-22T15:55:44.654068Z",
     "shell.execute_reply": "2025-05-22T15:55:44.653990Z",
     "shell.execute_reply.started": "2025-05-22T15:55:44.653982Z"
    },
    "scrolled": true
   },
   "outputs": [],
   "source": [
    "# Did we execute some ToO observations?\n",
    "np.unique(observations[\"scheduler_note\"],return_counts=True)"
   ]
  },
  {
   "cell_type": "code",
   "execution_count": null,
   "id": "6ffe6ea7-4713-4de8-98f6-199e34dbfb91",
   "metadata": {
    "execution": {
     "iopub.status.busy": "2025-05-22T15:55:44.654463Z",
     "iopub.status.idle": "2025-05-22T15:55:44.654624Z",
     "shell.execute_reply": "2025-05-22T15:55:44.654546Z",
     "shell.execute_reply.started": "2025-05-22T15:55:44.654538Z"
    }
   },
   "outputs": [],
   "source": [
    "# Check that ToO events are where we think they should be\n",
    "too_indx = [\"ToO\" in note for note in observations[\"scheduler_note\"]]\n",
    "\n",
    "fig, ax = plt.subplots()\n",
    "\n",
    "ax.scatter(np.degrees(observations[\"RA\"]), np.degrees(observations[\"dec\"]), color='black',label=\"Other observations\")\n",
    "ax.scatter(np.degrees(observations[\"RA\"][too_indx]), np.degrees(observations[\"dec\"][too_indx]), color=\"red\",label=\"ToO Observations\")\n",
    "\n",
    "ax.set_xlabel(\"RA (deg)\")\n",
    "ax.set_ylabel(\"Dec (deg)\")\n",
    "ax.legend()\n",
    "ax.set_title(\"ToO observations for test GW event, gold\")"
   ]
  },
  {
   "cell_type": "markdown",
   "id": "ee006b11-4eb2-4f7d-a964-bbc31a59a64b",
   "metadata": {},
   "source": [
    "## Evaluate the per-day visit statistics relevant to ToO\n",
    "- Filter coverage per day\n",
    "- Total event area coverage\n",
    "\n",
    "Relevant fields in the observation array\n",
    "- ra\n",
    "- dec\n",
    "- mjd\n",
    "- exptime\n",
    "- band\n",
    "- filter\n",
    "- nexp\n",
    "- airmass\n",
    "- night\n",
    "- visittime\n",
    "- scheduler_note"
   ]
  },
  {
   "cell_type": "code",
   "execution_count": null,
   "id": "495bd39a-0944-4dba-a239-4debbfe7207c",
   "metadata": {
    "execution": {
     "iopub.status.busy": "2025-05-22T15:55:44.655080Z",
     "iopub.status.idle": "2025-05-22T15:55:44.655233Z",
     "shell.execute_reply": "2025-05-22T15:55:44.655162Z",
     "shell.execute_reply.started": "2025-05-22T15:55:44.655155Z"
    }
   },
   "outputs": [],
   "source": [
    "ToOObservations = observations[too_indx]\n",
    "colsOfInterest = [\"RA\",\"dec\",\"mjd\",\"exptime\",\"band\",\"filter\",\"nexp\",\"airmass\",\"night\",\"visittime\",\"scheduler_note\"]"
   ]
  },
  {
   "cell_type": "code",
   "execution_count": null,
   "id": "76afbda9-37d4-45a9-9d90-5b809061318e",
   "metadata": {
    "execution": {
     "iopub.status.busy": "2025-05-22T15:55:44.655502Z",
     "iopub.status.idle": "2025-05-22T15:55:44.655646Z",
     "shell.execute_reply": "2025-05-22T15:55:44.655577Z",
     "shell.execute_reply.started": "2025-05-22T15:55:44.655570Z"
    }
   },
   "outputs": [],
   "source": [
    "ToOObservations[:][\"exptime\"]"
   ]
  },
  {
   "cell_type": "code",
   "execution_count": null,
   "id": "94df2f4e-5489-4a5f-a1be-e7ae650debe4",
   "metadata": {
    "execution": {
     "iopub.status.busy": "2025-05-22T15:55:44.656222Z",
     "iopub.status.idle": "2025-05-22T15:55:44.656374Z",
     "shell.execute_reply": "2025-05-22T15:55:44.656302Z",
     "shell.execute_reply.started": "2025-05-22T15:55:44.656295Z"
    },
    "scrolled": true
   },
   "outputs": [],
   "source": [
    "for col in colsOfInterest:\n",
    "    print(col,\":\",ToOObservations[:][col])"
   ]
  },
  {
   "cell_type": "code",
   "execution_count": null,
   "id": "b1c9e617-3485-45aa-a9aa-dda611dd1f50",
   "metadata": {
    "execution": {
     "iopub.status.busy": "2025-05-22T15:55:44.656860Z",
     "iopub.status.idle": "2025-05-22T15:55:44.657022Z",
     "shell.execute_reply": "2025-05-22T15:55:44.656944Z",
     "shell.execute_reply.started": "2025-05-22T15:55:44.656936Z"
    }
   },
   "outputs": [],
   "source": [
    "np.unique(ToOObservations[:][\"night\"],return_counts=True)"
   ]
  },
  {
   "cell_type": "code",
   "execution_count": null,
   "id": "8238b65d-14e8-4938-b438-0682e7958fc4",
   "metadata": {
    "execution": {
     "iopub.status.busy": "2025-05-22T15:55:44.657379Z",
     "iopub.status.idle": "2025-05-22T15:55:44.657525Z",
     "shell.execute_reply": "2025-05-22T15:55:44.657456Z",
     "shell.execute_reply.started": "2025-05-22T15:55:44.657449Z"
    }
   },
   "outputs": [],
   "source": [
    "fig,axs = plt.subplots(1,5,figsize=(25,5),sharey=True)\n",
    "for num,ax in zip(np.unique(ToOObservations[:][\"night\"]),axs.flatten()):\n",
    "    strin = \"Exposure times: {}\".format(np.unique(ToOObservations[\"exptime\"][[t==num for t in ToOObservations[:][\"night\"]]]))\n",
    "    subset = ToOObservations[:][[t==num for t in ToOObservations[:][\"night\"]]]\n",
    "    ax.scatter(subset[:][\"mjd\"]-60980-num,subset[:][\"band\"],s=subset[:][\"exptime\"])\n",
    "    ax.set_title(\"Night {}\\n{}\".format(num,strin))\n",
    "#     ax.grid(ls='--')\n",
    "#     ax.set_xticks(np.arange(0,0.08,step=0.01))\n",
    "# for ax in axs[-1,:]:\n",
    "#     ax.set_xlabel(\"$MJD - MJD_{night}$\")\n",
    "# for ax in axs[:,0]:\n",
    "#     ax.set_ylabel(\"filter\")\n",
    "plt.show()"
   ]
  },
  {
   "cell_type": "code",
   "execution_count": 21,
   "id": "4bb0a15c-4377-4a9e-a909-cbbc20f2db3e",
   "metadata": {},
   "outputs": [],
   "source": [
    "colorDict = {\"r\":\"red\",\"g\":\"green\",\"i\":\"blue\"}"
   ]
  },
  {
   "cell_type": "code",
   "execution_count": 22,
   "id": "886e472a-9b96-41fb-aa3e-a5db9bf7a015",
   "metadata": {},
   "outputs": [],
   "source": [
    "def makeColors(bands):\n",
    "    returnArr = []\n",
    "    for b in bands:\n",
    "        returnArr.append(colorDict[b])\n",
    "    return returnArr"
   ]
  },
  {
   "cell_type": "code",
   "execution_count": 23,
   "id": "723f345b-b162-4c83-9463-22d99496a019",
   "metadata": {},
   "outputs": [
    {
     "data": {
      "image/png": "[encoded data removed]",
      "text/plain": [
       "<Figure size 1000x1000 with 4 Axes>"
      ]
     },
     "metadata": {},
     "output_type": "display_data"
    }
   ],
   "source": [
    "fig,axs = plt.subplots(2,2,figsize=(10,10))\n",
    "for num,ax in zip(np.unique(ToOObservations[:][\"night\"]),axs.flatten()):\n",
    "    strin = \"Exposure times: {}\".format(np.unique(ToOObservations[\"exptime\"][[t==num for t in ToOObservations[:][\"night\"]]]))\n",
    "    subset = ToOObservations[:][[t==num for t in ToOObservations[:][\"night\"]]]\n",
    "    ax.scatter(np.rad2deg(subset[:][\"RA\"]),np.rad2deg(subset[:][\"dec\"]),color=makeColors(subset[:][\"band\"]))\n",
    "    ax.set_title(\"Night {}\\n{}\".format(num,strin))\n",
    "    ax.grid(ls='--')\n",
    "    # ax.set_xticks(np.arange(0,0.08,step=0.01))\n",
    "for ax in axs[-1,:]:\n",
    "    ax.set_xlabel(\"RA\")\n",
    "for ax in axs[:,0]:\n",
    "    ax.set_ylabel(\"Dec\")\n",
    "plt.show()"
   ]
  },
  {
   "cell_type": "code",
   "execution_count": null,
   "id": "0d6d4d66-4a30-44b1-b919-d618e234723d",
   "metadata": {},
   "outputs": [],
   "source": []
  },
  {
   "cell_type": "code",
   "execution_count": null,
   "id": "48938ef5-1db3-47a4-a6dd-0c6bd4d46fc2",
   "metadata": {
    "execution": {
     "iopub.status.busy": "2025-05-21T23:32:08.089027Z",
     "iopub.status.idle": "2025-05-21T23:32:08.089199Z",
     "shell.execute_reply": "2025-05-21T23:32:08.089120Z",
     "shell.execute_reply.started": "2025-05-21T23:32:08.089111Z"
    }
   },
   "outputs": [],
   "source": [
    "362%360"
   ]
  },
  {
   "cell_type": "code",
   "execution_count": null,
   "id": "b58bedd5-f9ec-4b1d-8162-4857789946ae",
   "metadata": {},
   "outputs": [],
   "source": []
  },
  {
   "cell_type": "code",
   "execution_count": null,
   "id": "b56cae09-8862-40b7-939a-3625174dacb5",
   "metadata": {},
   "outputs": [],
   "source": []
  }
 ],
 "metadata": {
  "kernelspec": {
   "display_name": "LSST",
   "language": "python",
   "name": "lsst"
  },
  "language_info": {
   "codemirror_mode": {
    "name": "ipython",
    "version": 3
   },
   "file_extension": ".py",
   "mimetype": "text/x-python",
   "name": "python",
   "nbconvert_exporter": "python",
   "pygments_lexer": "ipython3",
   "version": "3.12.10"
  }
 },
 "nbformat": 4,
 "nbformat_minor": 5
}
